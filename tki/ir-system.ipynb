{
 "cells": [
  {
   "cell_type": "markdown",
   "metadata": {
    "vscode": {
     "languageId": "plaintext"
    }
   },
   "source": [
    "# ***Information Retrieval System***"
   ]
  },
  {
   "cell_type": "markdown",
   "metadata": {},
   "source": [
    "## **Penjelasan IR-System**\n",
    "\n",
    "IR System kepanjangan dari information Retrieval System adalah suatu konsep dimana kita akan mencari suatu informasi berdasarkan hal hal tertentu. Jika anda sulit memahami konsep ini, mungkin anda akan familiar dengan mesin pencarian google, pencarian barang pada online shop seperti tokopedia dan shoope, atau mungkin pencarian teman di social media anda. Semua prinsip yang sudah saya sebutkan tadi merupakan bagian dari IR-System.\n",
    "\n",
    "Bahasa Indonesia dari IR-system adalah Sistem Temu Kembali Informasi. Prinsip ini dalam dunia komputer sering digunakan untuk mesin pencarian entah itu penelusuran sosial media, penelusuran mesin pencarian, ataupun hal yang lain. \n",
    "\n",
    "Kita akan memulainya dengan suatu analogi, supaya mudah untuk dipahami. Bayangkan anda berada di suatu perpustakaan, disini tentu memiliki banyak sekali buku buku yang tersedia. Jika anda ingin mencari suatu buku maka apa yang harus anda lakukan? Tentu tidak mencari satu persatu buku tersebutkan? Oke, semisal kita ingin mencari buku tentang \"Cara merakit Komputer\". Jika kita mencari buku tersebut dengan cara mengecek satu persatu bukunya, maka kita akan kehilangan banyak sekali waktu dan bahkan mungkin energi. Kita bahkan belum mulai untuk merakit komputernya. Nah disini fungsi Penjaga perpustakaan bekerja, kita tinggal tanya kepadanya dimana kira kira buku panduan tentang \"Cara merakit Komputer\". Penjaga perpustakaan biasanya sudah memiliki data tentang rak rak mana yang menyimpan tentang teknologi misalnya. Kita nantinya akan diberikan informasi mengenai tempat penyimpanan buku tersebut, agar kita tidak bingung mencarinya satu persatu di setiap rak.\n",
    "\n",
    "Dalam skenario diatas bisa kita analogikan sebagai berikut ini:\n",
    "\n",
    "1. Perpustakaan sebagai Internet\n",
    "2. Buku adalah informasi yang nanti kita baca\n",
    "3. Judul Buku yang dimana \"Cara merakit komputer\" itu adalah informasi yang kita butuhkan\n",
    "4. Penjaga perpustakaan adalah IR-system atau sistem temu kembali informasi\n",
    "\n",
    "Jadi secara sederhana bisa kita sebutkan bahwa IR-system adalah alat yang membantu kita dalam mencari informasi yang relevan dengan apa yang kita cari berdasarkan kebutuhan kita.\n",
    "\n",
    "Perlu diingat bahwa IR-system akan mencari sesuatu yang RELEVAN dengan apa yang kita cari, hal ini berarti mesin pencarian tidak hanya akan memillih suatu informasi  dengan berdasarkan \"Merakit Komputer\", akan tetapi yang paling memuaskan dan bermafaat juga dengan kata pencarian tersebut. Sistem tidak akan memberikan sejarah tentang MotherBoard meskipun hal tersebut sangat berkaitan dengan komputer juga. "
   ]
  },
  {
   "cell_type": "markdown",
   "metadata": {},
   "source": [
    "## **Bidang yang Dibahas dalam IR System**\n",
    "\n",
    "Sekarang, mari kita buka \"kotak ajaib\" ini dan lihat ada mesin-mesin apa saja di dalamnya. Apa saja yang perlu kita pelajari dan bangun agar sistem ini bisa bekerja dengan pintar?\n",
    "\n",
    "Setidaknya ada empat bidang utama yang menjadi pilar dalam IR System.\n",
    "\n",
    "### 1. Pengumpulan dan Penyusunan Data (*Crawling & Indexing*)\n",
    "\n",
    "Bayangkan lagi perpustakaan tadi. Sebelum Anda bisa mencari buku, perpustakaan itu harus melakukan dua hal:\n",
    "* **Mengumpulkan buku:** Membeli atau menerima sumbangan buku dari berbagai penerbit.\n",
    "* **Menyusun buku:** Memberi label pada setiap buku, mencatatnya di kartu katalog, dan meletakkannya di rak yang sesuai (misal: rak fiksi, rak sains, rak resep).\n",
    "\n",
    "Inilah yang dilakukan IR System pada tahap pertama:\n",
    "* ***Crawling (Merangkak/Menjelajah):*** Sistem ini memiliki program \"robot\" kecil (disebut *web crawler* atau *spider*) yang menjelajahi internet tanpa henti, dari satu link ke link lainnya, untuk mengumpulkan data (menyimpan salinan halaman web, gambar, dll).\n",
    "* ***Indexing (Membuat Indeks):*** Setelah data terkumpul, sistem harus menyusunnya agar mudah dicari. Proses ini seperti membuat **indeks super raksasa di belakang buku**. Sistem akan mencatat setiap kata yang ada di sebuah halaman web dan di halaman mana saja kata itu muncul. Misalnya:\n",
    "    * Kata `Cara` -> ada di dokumen A, dokumen C, dokumen F.\n",
    "    * Kata `Merakit` -> ada di dokumen A, dokumen B, dokumen D.\n",
    "    * Kata `Komputer` -> ada di dokumen A, dokumen D, dokumen G.\n",
    "\n",
    "Tanpa indeks ini, setiap kali Anda mencari, sistem harus membaca ulang seluruh jutaan dokumen. Tentu akan sangat lambat! Dengan indeks, pencarian menjadi secepat kilat.\n",
    "\n",
    "### 2. Pemrosesan Pertanyaan (*Query Processing*)\n",
    "\n",
    "Sekarang, bagian Anda sebagai pengguna. Ketika Anda mengetik \"cara bikin kue bolu lembut\" di kolom pencarian. Sistem tidak langsung mencari kata-kata itu begitu saja. Ia mencoba **memahami maksud Anda**.\n",
    "\n",
    "Apa yang dilakukannya?\n",
    "* **Memperbaiki salah ketik:** Jika Anda mengetik \"cara merakit kompoter,\" sistem cukup pintar untuk tahu maksud Anda adalah \"komputer\".\n",
    "* **Memahami sinonim:** Sistem tahu bahwa \"cara\", \"tutorial\", \"langkah-langkah\" punya makna yang mirip.\n",
    "* **Membuang kata tidak penting:** Kata seperti \"yang\", \"di\", \"bagaimana\" seringkali tidak terlalu penting untuk pencarian inti, jadi sistem mungkin akan lebih fokus pada \"merakit komputer\".\n",
    "\n",
    "Bidang ini fokus pada bagaimana mesin bisa memahami bahasa manusia yang seringkali tidak sempurna dan ambigu.\n",
    "\n",
    "### 3. Pencocokan dan Pemeringkatan (*Matching & Ranking*)\n",
    "\n",
    "Inilah inti dari keajaiban IR System. Setelah indeks siap dan pertanyaan Anda dipahami, sistem akan:\n",
    "* ***Matching (Mencocokkan):*** Mencari di dalam indeks raksasanya, dokumen mana saja yang mengandung kata \"komputer\", \"rakit\". Hasilnya mungkin ada ribuan halaman web.\n",
    "* ***Ranking (Memberi Peringkat):*** Nah, apakah semua hasil itu akan ditampilkan begitu saja? Tentu tidak. Sistem harus memutuskan: halaman mana yang paling pantas ditampilkan di **urutan #1**, mana yang di **urutan #2**, dan seterusnya.\n",
    "\n",
    "Bagaimana cara sistem menentukan peringkat? Ini adalah rahasia terbesar setiap mesin pencari, tapi beberapa faktor umumnya adalah:\n",
    "* **Relevansi Kata Kunci:** Seberapa sering kata kunci Anda muncul di halaman itu? Apakah ada di judul?\n",
    "* **Popularitas/Otoritas Halaman:** Seberapa banyak situs web lain yang terpercaya memberikan link ke halaman tersebut? (Ini seperti rekomendasi dari teman).\n",
    "* **Kualitas Konten:** Apakah kontennya ditulis dengan baik? Apakah informasinya lengkap?\n",
    "* **Keterbaruan (Freshness):** Kapan halaman ini terakhir di-update? Untuk berita, ini sangat penting.\n",
    "* **Lokasi Pengguna:** Jika Anda mencari \"restoran terdekat\", sistem akan menggunakan lokasi Anda untuk memberi peringkat.\n",
    "\n",
    "Halaman yang mendapatkan skor tertinggi dari kombinasi faktor-faktor inilah yang akan muncul di puncak hasil pencarian.\n",
    "\n",
    "### 4. Evaluasi Sistem (*Evaluation*)\n",
    "\n",
    "Terakhir, bagaimana kita tahu bahwa sistem pencari yang kita buat itu **bagus**? Tentu harus diukur.\n",
    "\n",
    "Bayangkan Anda memberi 10 hasil pencarian kepada pengguna.\n",
    "* **Presisi (*Precision*):** Dari 10 hasil itu, berapa yang benar-benar relevan dan berguna bagi pengguna? Jika 8 dari 10 hasil sangat relevan, maka presisinya tinggi (80%).\n",
    "* **Cakupan (*Recall*):** Dari semua halaman resep kue bolu yang ada di seluruh internet, berapa persen yang berhasil ditemukan oleh sistem kita? Mungkin ada 1.000 halaman relevan, tapi sistem kita hanya menemukan 200 di antaranya.\n",
    "\n",
    "Tujuan utama para insinyur IR adalah menciptakan sistem yang memiliki presisi dan cakupan setinggi mungkin, agar pengguna merasa puas."
   ]
  }
 ],
 "metadata": {
  "kernelspec": {
   "display_name": "Python 3",
   "language": "python",
   "name": "python3"
  },
  "language_info": {
   "codemirror_mode": {
    "name": "ipython",
    "version": 3
   },
   "file_extension": ".py",
   "mimetype": "text/x-python",
   "name": "python",
   "nbconvert_exporter": "python",
   "pygments_lexer": "ipython3",
   "version": "3.8.0"
  },
  "widgets": {
   "application/vnd.jupyter.widget-state+json": {
    "state": {},
    "version_major": 2,
    "version_minor": 0
   }
  }
 },
 "nbformat": 4,
 "nbformat_minor": 4
}
